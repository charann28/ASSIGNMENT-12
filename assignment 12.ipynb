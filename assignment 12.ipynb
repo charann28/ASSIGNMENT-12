{
 "cells": [
  {
   "cell_type": "code",
   "execution_count": null,
   "id": "4967128b",
   "metadata": {},
   "outputs": [],
   "source": [
    "1. In what modes should the PdfFileReader() and PdfFileWriter() File objects will be opened?\n",
    "ANSWER:\n",
    "    For PdfFileReader() file objects should be opened in rb - read binary mode.\n",
    "    Whereas for PdfFileWriter() file objects should be opened in wb - write binary mode."
   ]
  },
  {
   "cell_type": "code",
   "execution_count": null,
   "id": "16846a9b",
   "metadata": {},
   "outputs": [],
   "source": [
    "2. From a PdfFileReader object, how do you get a Page object for page 5?\n",
    "ANSWER:\n",
    "    Calling getPage(4) will return a Page object for page 5 since page 0 is the first page"
   ]
  },
  {
   "cell_type": "code",
   "execution_count": null,
   "id": "92505002",
   "metadata": {},
   "outputs": [],
   "source": [
    "3. What PdfFileReader variable stores the number of pages in the PDF document?\n",
    "ANSWER:\n",
    "    getNumPages() method of PdfFileReader class stores the no of pages in a PDF document"
   ]
  },
  {
   "cell_type": "code",
   "execution_count": null,
   "id": "6bae80f5",
   "metadata": {},
   "outputs": [],
   "source": [
    "4. If a PdfFileReader object’s PDF is encrypted with the password swordfish, what must you do\n",
    "before you can obtain Page objects from it?\n",
    "ANSWER:\n",
    "     Before we obtain the page object, the pdf has to be decrypted by calling .decrypt('swordfish')"
   ]
  },
  {
   "cell_type": "code",
   "execution_count": null,
   "id": "d2cbcfb9",
   "metadata": {},
   "outputs": [],
   "source": [
    "5. What methods do you use to rotate a page?\n",
    "ANSWER:\n",
    "    rotateClockWise() - For Clockwise rotation\n",
    "    rotateCounterClockWise()-  For Counter Clockwise rotation"
   ]
  },
  {
   "cell_type": "code",
   "execution_count": null,
   "id": "1f931bce",
   "metadata": {},
   "outputs": [],
   "source": [
    "6. What is the difference between a Run object and a Paragraph object?\n",
    "ANSWER:\n",
    "    Paragraph Object : A document contains multiple paragraphs. A paragraph begins on a new line and contains multiple\n",
    "        runs. The Document object contains a list of Paragraph objects for the paragraphs in the document. \n",
    "    Run Objects : Runs are contiguous groups of characters within a paragraph with the same style    "
   ]
  },
  {
   "cell_type": "code",
   "execution_count": null,
   "id": "418843c6",
   "metadata": {},
   "outputs": [],
   "source": [
    "7. How do you obtain a list of Paragraph objects for a Document object that’s stored in a variable\n",
    "named doc?\n",
    "ANSWER:\n",
    "    #!pip install python-docx\n",
    "    import docx\n",
    "    doc = docx.Document('abc.docx')\n",
    "    doc.paragraphs\n",
    "    #By using doc.paragraphs"
   ]
  },
  {
   "cell_type": "code",
   "execution_count": null,
   "id": "778ec16e",
   "metadata": {},
   "outputs": [],
   "source": [
    "8. What type of object has bold, underline, italic, strike, and outline variables?\n",
    "ANSWER:\n",
    "    A Run object has bold, underline,italic,strike and outline variables"
   ]
  },
  {
   "cell_type": "code",
   "execution_count": null,
   "id": "08efe543",
   "metadata": {},
   "outputs": [],
   "source": [
    "9. What is the difference between False, True, and None for the bold variable?\n",
    "ANSWER:\n",
    "    bold = True  # Style Set to Bold\n",
    "    bold = False # Style Not Set to Bold\n",
    "    bold = None # Style is Not Applicable"
   ]
  },
  {
   "cell_type": "code",
   "execution_count": null,
   "id": "b1ae2119",
   "metadata": {},
   "outputs": [],
   "source": [
    "10. How do you create a Document object for a new Word document?\n",
    "ANSWER:\n",
    "     By Calling the docx.Document() function."
   ]
  },
  {
   "cell_type": "code",
   "execution_count": null,
   "id": "5d4c6b2f",
   "metadata": {},
   "outputs": [],
   "source": [
    "11. How do you add a paragraph with the text 'Hello, there!' to a Document object stored in a\n",
    "variable named doc?\n",
    "ANSWER:\n",
    "    import docx\n",
    "    doc = docx.Document()\n",
    "    doc.add_paragraph('Hello there!')\n",
    "    doc.save('hellothere.docx')  "
   ]
  },
  {
   "cell_type": "code",
   "execution_count": null,
   "id": "412b97ac",
   "metadata": {},
   "outputs": [],
   "source": [
    "12. What integers represent the levels of headings available in Word documents?\n",
    "ANSWER:\n",
    "    integer from 0 to 4.\n",
    "    The arguments to add_heading() are a string of the heading text and an integer from 0 to 4. \n",
    "    The integer 0 makes the heading the Title style, which is used for the top of the document. \n",
    "    Integers 1 to 4 are for various heading levels, with 1 being the main heading and 4 the lowest subheading\n"
   ]
  }
 ],
 "metadata": {
  "kernelspec": {
   "display_name": "Python 3 (ipykernel)",
   "language": "python",
   "name": "python3"
  },
  "language_info": {
   "codemirror_mode": {
    "name": "ipython",
    "version": 3
   },
   "file_extension": ".py",
   "mimetype": "text/x-python",
   "name": "python",
   "nbconvert_exporter": "python",
   "pygments_lexer": "ipython3",
   "version": "3.9.13"
  }
 },
 "nbformat": 4,
 "nbformat_minor": 5
}
